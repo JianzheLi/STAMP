{
 "cells": [
  {
   "cell_type": "code",
   "execution_count": 1,
   "id": "a009ce89",
   "metadata": {},
   "outputs": [
    {
     "name": "stderr",
     "output_type": "stream",
     "text": [
      "/home/gaoyicheng/anaconda3/envs/stamp/lib/python3.9/site-packages/tqdm/auto.py:21: TqdmWarning: IProgress not found. Please update jupyter and ipywidgets. See https://ipywidgets.readthedocs.io/en/stable/user_install.html\n",
      "  from .autonotebook import tqdm as notebook_tqdm\n"
     ]
    }
   ],
   "source": [
    "# The user can set the cuda device number based on their own machine\n",
    "import os\n",
    "os.environ.setdefault(\"CUDA_VISIBLE_DEVICES\", \"1\")\n",
    "from stamp import STAMP, load_config\n",
    "import scanpy as sc"
   ]
  },
  {
   "cell_type": "code",
   "execution_count": 2,
   "id": "044e573d",
   "metadata": {},
   "outputs": [],
   "source": [
    "# load config file\n",
    "# The users would be better to set the path of \n",
    "#(1) training/validation/testing dataset, (2) gene embedding matrix and (3) output directory \n",
    "# in case of raising error about \"File is not found\"\n",
    "config = load_config(\"../Data/RPE1_config.yaml\")\n",
    "\n",
    "# set up and train a STAMP\n",
    "model = STAMP(config)"
   ]
  },
  {
   "cell_type": "code",
   "execution_count": 3,
   "id": "e9d01e89",
   "metadata": {
    "scrolled": true
   },
   "outputs": [
    {
     "name": "stderr",
     "output_type": "stream",
     "text": [
      "[2024-06-21 15:28:43,374][STAMP.py][line:134][INFO] Epoch:[1/200]\tsteps:20\tloss1_train:0.86965\tloss2_train:0.68303\tloss3_train:0.68137\tloss1_test:0.78950\tloss2_test:0.67458\tloss3_test:0.66833\ttime:16.457\n",
      "[2024-06-21 15:28:59,617][STAMP.py][line:134][INFO] Epoch:[2/200]\tsteps:20\tloss1_train:0.72074\tloss2_train:0.66100\tloss3_train:0.47361\tloss1_test:0.61329\tloss2_test:0.64757\tloss3_test:0.51975\ttime:14.327\n",
      "[2024-06-21 15:29:14,964][STAMP.py][line:134][INFO] Epoch:[3/200]\tsteps:20\tloss1_train:0.57773\tloss2_train:0.62633\tloss3_train:0.38585\tloss1_test:0.57014\tloss2_test:0.60445\tloss3_test:0.47975\ttime:14.580\n",
      "[2024-06-21 15:29:30,163][STAMP.py][line:134][INFO] Epoch:[4/200]\tsteps:20\tloss1_train:0.54910\tloss2_train:0.57630\tloss3_train:0.37086\tloss1_test:0.56031\tloss2_test:0.56002\tloss3_test:0.46079\ttime:13.543\n",
      "[2024-06-21 15:29:46,794][STAMP.py][line:134][INFO] Epoch:[5/200]\tsteps:20\tloss1_train:0.53949\tloss2_train:0.53013\tloss3_train:0.34916\tloss1_test:0.55942\tloss2_test:0.51313\tloss3_test:0.44211\ttime:15.528\n",
      "[2024-06-21 15:30:01,510][STAMP.py][line:134][INFO] Epoch:[6/200]\tsteps:20\tloss1_train:0.53714\tloss2_train:0.48213\tloss3_train:0.33055\tloss1_test:0.55865\tloss2_test:0.46666\tloss3_test:0.42394\ttime:13.904\n",
      "[2024-06-21 15:30:15,047][STAMP.py][line:134][INFO] Epoch:[7/200]\tsteps:20\tloss1_train:0.53251\tloss2_train:0.43517\tloss3_train:0.31729\tloss1_test:0.55890\tloss2_test:0.42708\tloss3_test:0.40911\ttime:12.750\n",
      "[2024-06-21 15:30:30,619][STAMP.py][line:134][INFO] Epoch:[8/200]\tsteps:20\tloss1_train:0.52574\tloss2_train:0.39089\tloss3_train:0.30947\tloss1_test:0.55854\tloss2_test:0.39950\tloss3_test:0.39579\ttime:14.126\n",
      "[2024-06-21 15:30:44,379][STAMP.py][line:134][INFO] Epoch:[9/200]\tsteps:20\tloss1_train:0.52523\tloss2_train:0.36695\tloss3_train:0.29643\tloss1_test:0.55760\tloss2_test:0.38348\tloss3_test:0.38434\ttime:12.821\n",
      "[2024-06-21 15:30:59,446][STAMP.py][line:134][INFO] Epoch:[10/200]\tsteps:20\tloss1_train:0.51643\tloss2_train:0.35738\tloss3_train:0.28235\tloss1_test:0.55867\tloss2_test:0.37510\tloss3_test:0.37575\ttime:14.033\n",
      "[2024-06-21 15:31:12,530][STAMP.py][line:134][INFO] Epoch:[11/200]\tsteps:20\tloss1_train:0.51220\tloss2_train:0.35281\tloss3_train:0.27580\tloss1_test:0.55653\tloss2_test:0.37032\tloss3_test:0.36966\ttime:12.210\n",
      "[2024-06-21 15:31:26,796][STAMP.py][line:134][INFO] Epoch:[12/200]\tsteps:20\tloss1_train:0.49776\tloss2_train:0.33500\tloss3_train:0.26704\tloss1_test:0.55698\tloss2_test:0.36886\tloss3_test:0.36593\ttime:13.222\n",
      "[2024-06-21 15:31:40,542][STAMP.py][line:134][INFO] Epoch:[13/200]\tsteps:20\tloss1_train:0.48753\tloss2_train:0.33578\tloss3_train:0.26422\tloss1_test:0.55452\tloss2_test:0.36737\tloss3_test:0.36009\ttime:12.848\n",
      "[2024-06-21 15:31:54,063][STAMP.py][line:134][INFO] Epoch:[14/200]\tsteps:20\tloss1_train:0.48763\tloss2_train:0.34431\tloss3_train:0.26205\tloss1_test:0.55477\tloss2_test:0.36662\tloss3_test:0.35551\ttime:12.585\n",
      "[2024-06-21 15:32:09,294][STAMP.py][line:134][INFO] Epoch:[15/200]\tsteps:20\tloss1_train:0.46226\tloss2_train:0.32312\tloss3_train:0.25140\tloss1_test:0.55856\tloss2_test:0.36580\tloss3_test:0.35082\ttime:14.003\n",
      "[2024-06-21 15:32:23,571][STAMP.py][line:134][INFO] Epoch:[16/200]\tsteps:20\tloss1_train:0.45089\tloss2_train:0.32216\tloss3_train:0.26470\tloss1_test:0.55864\tloss2_test:0.36556\tloss3_test:0.34785\ttime:13.127\n",
      "[2024-06-21 15:32:35,888][STAMP.py][line:134][INFO] Epoch:[17/200]\tsteps:20\tloss1_train:0.44216\tloss2_train:0.32260\tloss3_train:0.25374\tloss1_test:0.55527\tloss2_test:0.36535\tloss3_test:0.34505\ttime:11.453\n",
      "[2024-06-21 15:32:50,079][STAMP.py][line:134][INFO] Epoch:[18/200]\tsteps:20\tloss1_train:0.43118\tloss2_train:0.31614\tloss3_train:0.23917\tloss1_test:0.56438\tloss2_test:0.36435\tloss3_test:0.34376\ttime:12.827\n",
      "[2024-06-21 15:33:03,106][STAMP.py][line:134][INFO] Epoch:[19/200]\tsteps:20\tloss1_train:0.42568\tloss2_train:0.35997\tloss3_train:0.24356\tloss1_test:0.57932\tloss2_test:0.36417\tloss3_test:0.33973\ttime:12.099\n",
      "[2024-06-21 15:33:17,071][STAMP.py][line:134][INFO] Epoch:[20/200]\tsteps:20\tloss1_train:0.40937\tloss2_train:0.31131\tloss3_train:0.22888\tloss1_test:0.57711\tloss2_test:0.36475\tloss3_test:0.33895\ttime:12.654\n",
      "[2024-06-21 15:33:29,347][STAMP.py][line:134][INFO] Epoch:[21/200]\tsteps:20\tloss1_train:0.41041\tloss2_train:0.33047\tloss3_train:0.22846\tloss1_test:0.58781\tloss2_test:0.36446\tloss3_test:0.33715\ttime:11.059\n",
      "[2024-06-21 15:33:40,665][STAMP.py][line:134][INFO] Epoch:[22/200]\tsteps:20\tloss1_train:0.40193\tloss2_train:0.34179\tloss3_train:0.23690\tloss1_test:0.58229\tloss2_test:0.36628\tloss3_test:0.33589\ttime:10.118\n",
      "[2024-06-21 15:33:53,513][STAMP.py][line:134][INFO] Epoch:[23/200]\tsteps:20\tloss1_train:0.40772\tloss2_train:0.35140\tloss3_train:0.24736\tloss1_test:0.58290\tloss2_test:0.36521\tloss3_test:0.33385\ttime:11.669\n",
      "[2024-06-21 15:34:05,546][STAMP.py][line:134][INFO] Epoch:[24/200]\tsteps:20\tloss1_train:0.40274\tloss2_train:0.34949\tloss3_train:0.23908\tloss1_test:0.58579\tloss2_test:0.36635\tloss3_test:0.34272\ttime:11.162\n",
      "[2024-06-21 15:34:18,124][STAMP.py][line:134][INFO] Epoch:[25/200]\tsteps:20\tloss1_train:0.38718\tloss2_train:0.31797\tloss3_train:0.22780\tloss1_test:0.59437\tloss2_test:0.36897\tloss3_test:0.34385\ttime:11.713\n",
      "[2024-06-21 15:34:30,438][STAMP.py][line:134][INFO] Epoch:[26/200]\tsteps:20\tloss1_train:0.38858\tloss2_train:0.31526\tloss3_train:0.22411\tloss1_test:0.59982\tloss2_test:0.36679\tloss3_test:0.33803\ttime:11.368\n",
      "[2024-06-21 15:34:42,898][STAMP.py][line:134][INFO] Epoch:[27/200]\tsteps:20\tloss1_train:0.37625\tloss2_train:0.30861\tloss3_train:0.22682\tloss1_test:0.60646\tloss2_test:0.36537\tloss3_test:0.33737\ttime:11.711\n",
      "[2024-06-21 15:34:55,821][STAMP.py][line:134][INFO] Epoch:[28/200]\tsteps:20\tloss1_train:0.38130\tloss2_train:0.38295\tloss3_train:0.23363\tloss1_test:0.59795\tloss2_test:0.36424\tloss3_test:0.33391\ttime:11.921\n",
      "[2024-06-21 15:35:09,474][STAMP.py][line:134][INFO] Epoch:[29/200]\tsteps:20\tloss1_train:0.37899\tloss2_train:0.30918\tloss3_train:0.24427\tloss1_test:0.62324\tloss2_test:0.36287\tloss3_test:0.33322\ttime:12.280\n",
      "[2024-06-21 15:35:21,372][STAMP.py][line:134][INFO] Epoch:[30/200]\tsteps:20\tloss1_train:0.36870\tloss2_train:0.30703\tloss3_train:0.22865\tloss1_test:0.61918\tloss2_test:0.36248\tloss3_test:0.33119\ttime:11.122\n",
      "[2024-06-21 15:35:34,421][STAMP.py][line:134][INFO] Epoch:[31/200]\tsteps:20\tloss1_train:0.37800\tloss2_train:0.31607\tloss3_train:0.22539\tloss1_test:0.59822\tloss2_test:0.36185\tloss3_test:0.33044\ttime:11.720\n",
      "[2024-06-21 15:35:48,742][STAMP.py][line:134][INFO] Epoch:[32/200]\tsteps:20\tloss1_train:0.36688\tloss2_train:0.30210\tloss3_train:0.21491\tloss1_test:0.60696\tloss2_test:0.36178\tloss3_test:0.33082\ttime:13.495\n",
      "[2024-06-21 15:36:02,730][STAMP.py][line:134][INFO] Epoch:[33/200]\tsteps:20\tloss1_train:0.36226\tloss2_train:0.30490\tloss3_train:0.22247\tloss1_test:0.61087\tloss2_test:0.36157\tloss3_test:0.32888\ttime:13.103\n",
      "[2024-06-21 15:36:16,283][STAMP.py][line:134][INFO] Epoch:[34/200]\tsteps:20\tloss1_train:0.36488\tloss2_train:0.31311\tloss3_train:0.21738\tloss1_test:0.60215\tloss2_test:0.36108\tloss3_test:0.32804\ttime:12.716\n",
      "[2024-06-21 15:36:30,046][STAMP.py][line:134][INFO] Epoch:[35/200]\tsteps:20\tloss1_train:0.35945\tloss2_train:0.30258\tloss3_train:0.21195\tloss1_test:0.60482\tloss2_test:0.36007\tloss3_test:0.32671\ttime:12.269\n",
      "[2024-06-21 15:36:42,508][STAMP.py][line:134][INFO] Epoch:[36/200]\tsteps:20\tloss1_train:0.37133\tloss2_train:0.30410\tloss3_train:0.21662\tloss1_test:0.60414\tloss2_test:0.35965\tloss3_test:0.32553\ttime:11.354\n",
      "[2024-06-21 15:36:57,479][STAMP.py][line:134][INFO] Epoch:[37/200]\tsteps:20\tloss1_train:0.38544\tloss2_train:0.35018\tloss3_train:0.23012\tloss1_test:0.60679\tloss2_test:0.36141\tloss3_test:0.32902\ttime:14.157\n",
      "[2024-06-21 15:37:12,624][STAMP.py][line:134][INFO] Epoch:[38/200]\tsteps:20\tloss1_train:0.35912\tloss2_train:0.30170\tloss3_train:0.21902\tloss1_test:0.60092\tloss2_test:0.36376\tloss3_test:0.32970\ttime:14.054\n",
      "[2024-06-21 15:37:27,489][STAMP.py][line:134][INFO] Epoch:[39/200]\tsteps:20\tloss1_train:0.35873\tloss2_train:0.30617\tloss3_train:0.21431\tloss1_test:0.61295\tloss2_test:0.36101\tloss3_test:0.32120\ttime:13.936\n",
      "[2024-06-21 15:37:42,714][STAMP.py][line:134][INFO] Epoch:[40/200]\tsteps:20\tloss1_train:0.37477\tloss2_train:0.35909\tloss3_train:0.21928\tloss1_test:0.60976\tloss2_test:0.35977\tloss3_test:0.32046\ttime:13.990\n",
      "[2024-06-21 15:37:57,701][STAMP.py][line:134][INFO] Epoch:[41/200]\tsteps:20\tloss1_train:0.35131\tloss2_train:0.29083\tloss3_train:0.20902\tloss1_test:0.62972\tloss2_test:0.35896\tloss3_test:0.32497\ttime:13.333\n"
     ]
    },
    {
     "name": "stderr",
     "output_type": "stream",
     "text": [
      "[2024-06-21 15:38:13,602][STAMP.py][line:134][INFO] Epoch:[42/200]\tsteps:20\tloss1_train:0.38342\tloss2_train:0.36228\tloss3_train:0.25640\tloss1_test:0.62039\tloss2_test:0.35870\tloss3_test:0.32263\ttime:15.094\n",
      "[2024-06-21 15:38:32,835][STAMP.py][line:134][INFO] Epoch:[43/200]\tsteps:20\tloss1_train:0.35961\tloss2_train:0.30588\tloss3_train:0.21295\tloss1_test:0.62643\tloss2_test:0.36043\tloss3_test:0.33246\ttime:17.210\n",
      "[2024-06-21 15:38:49,626][STAMP.py][line:134][INFO] Epoch:[44/200]\tsteps:20\tloss1_train:0.35864\tloss2_train:0.30642\tloss3_train:0.20322\tloss1_test:0.62445\tloss2_test:0.35805\tloss3_test:0.32409\ttime:15.662\n",
      "[2024-06-21 15:39:02,609][STAMP.py][line:134][INFO] Epoch:[45/200]\tsteps:20\tloss1_train:0.35501\tloss2_train:0.29987\tloss3_train:0.20787\tloss1_test:0.62427\tloss2_test:0.35682\tloss3_test:0.32144\ttime:12.148\n",
      "[2024-06-21 15:39:16,854][STAMP.py][line:134][INFO] Epoch:[46/200]\tsteps:20\tloss1_train:0.36021\tloss2_train:0.31117\tloss3_train:0.20239\tloss1_test:0.61505\tloss2_test:0.35671\tloss3_test:0.32007\ttime:13.132\n",
      "[2024-06-21 15:39:32,555][STAMP.py][line:134][INFO] Epoch:[47/200]\tsteps:20\tloss1_train:0.34841\tloss2_train:0.29527\tloss3_train:0.21454\tloss1_test:0.63518\tloss2_test:0.35807\tloss3_test:0.32440\ttime:14.904\n",
      "[2024-06-21 15:39:47,011][STAMP.py][line:134][INFO] Epoch:[48/200]\tsteps:20\tloss1_train:0.35439\tloss2_train:0.38758\tloss3_train:0.21637\tloss1_test:0.61675\tloss2_test:0.35497\tloss3_test:0.31923\ttime:13.548\n",
      "[2024-06-21 15:40:00,208][STAMP.py][line:134][INFO] Epoch:[49/200]\tsteps:20\tloss1_train:0.35626\tloss2_train:0.30952\tloss3_train:0.20047\tloss1_test:0.62452\tloss2_test:0.36034\tloss3_test:0.32633\ttime:12.137\n",
      "[2024-06-21 15:40:14,868][STAMP.py][line:134][INFO] Epoch:[50/200]\tsteps:20\tloss1_train:0.35051\tloss2_train:0.30232\tloss3_train:0.20871\tloss1_test:0.64054\tloss2_test:0.35829\tloss3_test:0.32096\ttime:13.247\n",
      "[2024-06-21 15:40:26,767][STAMP.py][line:134][INFO] Epoch:[51/200]\tsteps:20\tloss1_train:0.34654\tloss2_train:0.29150\tloss3_train:0.20973\tloss1_test:0.63086\tloss2_test:0.35619\tloss3_test:0.31978\ttime:11.112\n",
      "[2024-06-21 15:40:38,922][STAMP.py][line:134][INFO] Epoch:[52/200]\tsteps:20\tloss1_train:0.34059\tloss2_train:0.28859\tloss3_train:0.19246\tloss1_test:0.64128\tloss2_test:0.35493\tloss3_test:0.31751\ttime:10.991\n",
      "[2024-06-21 15:40:50,538][STAMP.py][line:134][INFO] Epoch:[53/200]\tsteps:20\tloss1_train:0.33797\tloss2_train:0.29849\tloss3_train:0.19084\tloss1_test:0.63587\tloss2_test:0.35398\tloss3_test:0.31696\ttime:10.792\n",
      "[2024-06-21 15:41:03,171][STAMP.py][line:134][INFO] Epoch:[54/200]\tsteps:20\tloss1_train:0.34498\tloss2_train:0.29097\tloss3_train:0.19259\tloss1_test:0.65107\tloss2_test:0.35333\tloss3_test:0.31652\ttime:11.601\n",
      "[2024-06-21 15:41:15,608][STAMP.py][line:134][INFO] Epoch:[55/200]\tsteps:20\tloss1_train:0.33590\tloss2_train:0.28588\tloss3_train:0.18794\tloss1_test:0.65602\tloss2_test:0.35275\tloss3_test:0.31623\ttime:11.363\n",
      "[2024-06-21 15:41:28,282][STAMP.py][line:134][INFO] Epoch:[56/200]\tsteps:20\tloss1_train:0.33697\tloss2_train:0.27797\tloss3_train:0.18880\tloss1_test:0.63804\tloss2_test:0.35228\tloss3_test:0.31560\ttime:11.644\n",
      "[2024-06-21 15:41:40,476][STAMP.py][line:134][INFO] Epoch:[57/200]\tsteps:20\tloss1_train:0.34659\tloss2_train:0.36742\tloss3_train:0.19834\tloss1_test:0.63531\tloss2_test:0.35209\tloss3_test:0.32129\ttime:10.469\n",
      "[2024-06-21 15:41:53,034][STAMP.py][line:134][INFO] Epoch:[58/200]\tsteps:20\tloss1_train:0.36392\tloss2_train:0.29571\tloss3_train:0.18644\tloss1_test:0.64716\tloss2_test:0.35067\tloss3_test:0.31537\ttime:11.476\n",
      "[2024-06-21 15:42:06,910][STAMP.py][line:134][INFO] Epoch:[59/200]\tsteps:20\tloss1_train:0.36415\tloss2_train:0.33203\tloss3_train:0.19823\tloss1_test:0.65982\tloss2_test:0.35361\tloss3_test:0.31679\ttime:12.974\n",
      "[2024-06-21 15:42:18,675][STAMP.py][line:134][INFO] Epoch:[60/200]\tsteps:20\tloss1_train:0.34096\tloss2_train:0.29401\tloss3_train:0.19142\tloss1_test:0.65113\tloss2_test:0.35702\tloss3_test:0.32320\ttime:10.799\n",
      "[2024-06-21 15:42:30,367][STAMP.py][line:134][INFO] Epoch:[61/200]\tsteps:20\tloss1_train:0.34090\tloss2_train:0.28043\tloss3_train:0.18661\tloss1_test:0.63629\tloss2_test:0.35630\tloss3_test:0.31727\ttime:9.923\n",
      "[2024-06-21 15:42:42,765][STAMP.py][line:134][INFO] Epoch:[62/200]\tsteps:20\tloss1_train:0.32814\tloss2_train:0.27476\tloss3_train:0.18105\tloss1_test:0.64249\tloss2_test:0.35549\tloss3_test:0.31509\ttime:11.681\n",
      "[2024-06-21 15:42:54,570][STAMP.py][line:134][INFO] Epoch:[63/200]\tsteps:20\tloss1_train:0.32822\tloss2_train:0.27630\tloss3_train:0.18036\tloss1_test:0.65536\tloss2_test:0.35521\tloss3_test:0.31480\ttime:11.034\n",
      "[2024-06-21 15:43:06,691][STAMP.py][line:134][INFO] Epoch:[64/200]\tsteps:20\tloss1_train:0.32621\tloss2_train:0.27230\tloss3_train:0.17960\tloss1_test:0.64246\tloss2_test:0.35463\tloss3_test:0.31465\ttime:11.149\n",
      "[2024-06-21 15:43:18,456][STAMP.py][line:134][INFO] Epoch:[65/200]\tsteps:20\tloss1_train:0.33064\tloss2_train:0.28019\tloss3_train:0.18132\tloss1_test:0.62646\tloss2_test:0.35431\tloss3_test:0.31411\ttime:10.642\n",
      "[2024-06-21 15:43:30,821][STAMP.py][line:134][INFO] Epoch:[66/200]\tsteps:20\tloss1_train:0.34481\tloss2_train:0.27186\tloss3_train:0.17809\tloss1_test:0.65347\tloss2_test:0.35463\tloss3_test:0.31606\ttime:11.238\n",
      "[2024-06-21 15:43:42,186][STAMP.py][line:134][INFO] Epoch:[67/200]\tsteps:20\tloss1_train:0.33346\tloss2_train:0.27443\tloss3_train:0.19463\tloss1_test:0.66313\tloss2_test:0.35510\tloss3_test:0.31502\ttime:10.593\n",
      "[2024-06-21 15:43:54,687][STAMP.py][line:134][INFO] Epoch:[68/200]\tsteps:20\tloss1_train:0.33271\tloss2_train:0.30393\tloss3_train:0.18092\tloss1_test:0.65330\tloss2_test:0.35392\tloss3_test:0.31330\ttime:10.615\n",
      "[2024-06-21 15:44:07,550][STAMP.py][line:134][INFO] Epoch:[69/200]\tsteps:20\tloss1_train:0.34558\tloss2_train:0.26859\tloss3_train:0.17078\tloss1_test:0.66589\tloss2_test:0.35257\tloss3_test:0.31316\ttime:11.622\n",
      "[2024-06-21 15:44:19,137][STAMP.py][line:134][INFO] Epoch:[70/200]\tsteps:20\tloss1_train:0.35201\tloss2_train:0.28938\tloss3_train:0.17432\tloss1_test:0.63216\tloss2_test:0.35167\tloss3_test:0.31152\ttime:10.423\n",
      "[2024-06-21 15:44:30,675][STAMP.py][line:134][INFO] Epoch:[71/200]\tsteps:20\tloss1_train:0.34869\tloss2_train:0.26876\tloss3_train:0.17466\tloss1_test:0.63386\tloss2_test:0.35104\tloss3_test:0.30982\ttime:10.591\n",
      "[2024-06-21 15:44:41,821][STAMP.py][line:134][INFO] Epoch:[72/200]\tsteps:20\tloss1_train:0.32405\tloss2_train:0.26754\tloss3_train:0.17060\tloss1_test:0.64880\tloss2_test:0.34927\tloss3_test:0.30913\ttime:10.375\n",
      "[2024-06-21 15:44:54,237][STAMP.py][line:134][INFO] Epoch:[73/200]\tsteps:20\tloss1_train:0.32640\tloss2_train:0.27110\tloss3_train:0.17144\tloss1_test:0.64254\tloss2_test:0.34920\tloss3_test:0.30933\ttime:11.334\n",
      "[2024-06-21 15:45:08,388][STAMP.py][line:134][INFO] Epoch:[74/200]\tsteps:20\tloss1_train:0.32641\tloss2_train:0.27365\tloss3_train:0.17072\tloss1_test:0.65842\tloss2_test:0.34877\tloss3_test:0.30974\ttime:13.359\n",
      "[2024-06-21 15:45:21,556][STAMP.py][line:134][INFO] Epoch:[75/200]\tsteps:20\tloss1_train:0.32815\tloss2_train:0.27681\tloss3_train:0.16639\tloss1_test:0.64218\tloss2_test:0.34861\tloss3_test:0.30957\ttime:12.146\n",
      "[2024-06-21 15:45:35,429][STAMP.py][line:134][INFO] Epoch:[76/200]\tsteps:20\tloss1_train:0.32917\tloss2_train:0.28630\tloss3_train:0.17954\tloss1_test:0.63642\tloss2_test:0.34790\tloss3_test:0.31047\ttime:12.402\n",
      "[2024-06-21 15:45:47,197][STAMP.py][line:134][INFO] Epoch:[77/200]\tsteps:20\tloss1_train:0.32252\tloss2_train:0.28405\tloss3_train:0.19509\tloss1_test:0.65532\tloss2_test:0.34833\tloss3_test:0.31367\ttime:10.754\n",
      "[2024-06-21 15:46:02,991][STAMP.py][line:134][INFO] Epoch:[78/200]\tsteps:20\tloss1_train:0.31926\tloss2_train:0.26707\tloss3_train:0.18503\tloss1_test:0.66464\tloss2_test:0.35034\tloss3_test:0.32562\ttime:14.332\n",
      "[2024-06-21 15:46:19,908][STAMP.py][line:134][INFO] Epoch:[79/200]\tsteps:20\tloss1_train:0.32022\tloss2_train:0.27528\tloss3_train:0.25219\tloss1_test:0.66119\tloss2_test:0.34944\tloss3_test:0.31381\ttime:15.977\n",
      "[2024-06-21 15:46:36,561][STAMP.py][line:134][INFO] Epoch:[80/200]\tsteps:20\tloss1_train:0.32486\tloss2_train:0.29464\tloss3_train:0.16935\tloss1_test:0.63501\tloss2_test:0.35034\tloss3_test:0.31156\ttime:15.797\n",
      "[2024-06-21 15:46:49,992][STAMP.py][line:134][INFO] Epoch:[81/200]\tsteps:20\tloss1_train:0.34113\tloss2_train:0.30070\tloss3_train:0.17745\tloss1_test:0.63528\tloss2_test:0.34744\tloss3_test:0.31024\ttime:12.606\n"
     ]
    },
    {
     "name": "stderr",
     "output_type": "stream",
     "text": [
      "[2024-06-21 15:47:08,508][STAMP.py][line:134][INFO] Epoch:[82/200]\tsteps:20\tloss1_train:0.31769\tloss2_train:0.27749\tloss3_train:0.17176\tloss1_test:0.65363\tloss2_test:0.34799\tloss3_test:0.31028\ttime:17.114\n",
      "[2024-06-21 15:47:22,564][STAMP.py][line:134][INFO] Epoch:[83/200]\tsteps:20\tloss1_train:0.31630\tloss2_train:0.28060\tloss3_train:0.17451\tloss1_test:0.66103\tloss2_test:0.34808\tloss3_test:0.31008\ttime:12.934\n",
      "[2024-06-21 15:47:36,988][STAMP.py][line:134][INFO] Epoch:[84/200]\tsteps:20\tloss1_train:0.30756\tloss2_train:0.25864\tloss3_train:0.16918\tloss1_test:0.65242\tloss2_test:0.34787\tloss3_test:0.31043\ttime:13.488\n",
      "[2024-06-21 15:47:52,675][STAMP.py][line:134][INFO] Epoch:[85/200]\tsteps:20\tloss1_train:0.31839\tloss2_train:0.27176\tloss3_train:0.17276\tloss1_test:0.67516\tloss2_test:0.34681\tloss3_test:0.31227\ttime:14.808\n",
      "[2024-06-21 15:48:09,219][STAMP.py][line:134][INFO] Epoch:[86/200]\tsteps:20\tloss1_train:0.31569\tloss2_train:0.28541\tloss3_train:0.17204\tloss1_test:0.63644\tloss2_test:0.34812\tloss3_test:0.30943\ttime:14.989\n",
      "[2024-06-21 15:48:25,838][STAMP.py][line:134][INFO] Epoch:[87/200]\tsteps:20\tloss1_train:0.30477\tloss2_train:0.25267\tloss3_train:0.16979\tloss1_test:0.63798\tloss2_test:0.35164\tloss3_test:0.31279\ttime:15.497\n",
      "[2024-06-21 15:48:40,438][STAMP.py][line:134][INFO] Epoch:[88/200]\tsteps:20\tloss1_train:0.31856\tloss2_train:0.27916\tloss3_train:0.17465\tloss1_test:0.65424\tloss2_test:0.34901\tloss3_test:0.31305\ttime:13.123\n",
      "[2024-06-21 15:48:57,755][STAMP.py][line:134][INFO] Epoch:[89/200]\tsteps:20\tloss1_train:0.31691\tloss2_train:0.27286\tloss3_train:0.18335\tloss1_test:0.65669\tloss2_test:0.34820\tloss3_test:0.30935\ttime:16.087\n",
      "[2024-06-21 15:49:13,599][STAMP.py][line:134][INFO] Epoch:[90/200]\tsteps:20\tloss1_train:0.32343\tloss2_train:0.26122\tloss3_train:0.16033\tloss1_test:0.66171\tloss2_test:0.34806\tloss3_test:0.30710\ttime:14.207\n",
      "[2024-06-21 15:49:27,988][STAMP.py][line:134][INFO] Epoch:[91/200]\tsteps:20\tloss1_train:0.31278\tloss2_train:0.29707\tloss3_train:0.16027\tloss1_test:0.63781\tloss2_test:0.34798\tloss3_test:0.30622\ttime:13.130\n",
      "[2024-06-21 15:49:42,961][STAMP.py][line:134][INFO] Epoch:[92/200]\tsteps:20\tloss1_train:0.29777\tloss2_train:0.25520\tloss3_train:0.16199\tloss1_test:0.64507\tloss2_test:0.34955\tloss3_test:0.30585\ttime:14.090\n",
      "[2024-06-21 15:49:56,276][STAMP.py][line:134][INFO] Epoch:[93/200]\tsteps:20\tloss1_train:0.29847\tloss2_train:0.26069\tloss3_train:0.17284\tloss1_test:0.64611\tloss2_test:0.34711\tloss3_test:0.30487\ttime:12.473\n",
      "[2024-06-21 15:50:09,637][STAMP.py][line:134][INFO] Epoch:[94/200]\tsteps:20\tloss1_train:0.33406\tloss2_train:0.24620\tloss3_train:0.15623\tloss1_test:0.64653\tloss2_test:0.34686\tloss3_test:0.30598\ttime:12.606\n",
      "[2024-06-21 15:50:23,730][STAMP.py][line:134][INFO] Epoch:[95/200]\tsteps:20\tloss1_train:0.29935\tloss2_train:0.24752\tloss3_train:0.15693\tloss1_test:0.65200\tloss2_test:0.34672\tloss3_test:0.30440\ttime:13.088\n",
      "[2024-06-21 15:50:35,954][STAMP.py][line:134][INFO] Epoch:[96/200]\tsteps:20\tloss1_train:0.29833\tloss2_train:0.24983\tloss3_train:0.15911\tloss1_test:0.66694\tloss2_test:0.34632\tloss3_test:0.30379\ttime:11.317\n",
      "[2024-06-21 15:50:48,242][STAMP.py][line:134][INFO] Epoch:[97/200]\tsteps:20\tloss1_train:0.29910\tloss2_train:0.25111\tloss3_train:0.15468\tloss1_test:0.66735\tloss2_test:0.34616\tloss3_test:0.30301\ttime:11.554\n",
      "[2024-06-21 15:50:58,424][STAMP.py][line:134][INFO] Epoch:[98/200]\tsteps:20\tloss1_train:0.30156\tloss2_train:0.25056\tloss3_train:0.15733\tloss1_test:0.65605\tloss2_test:0.34688\tloss3_test:0.30349\ttime:9.571\n",
      "[2024-06-21 15:51:08,816][STAMP.py][line:134][INFO] Epoch:[99/200]\tsteps:20\tloss1_train:0.30081\tloss2_train:0.27792\tloss3_train:0.16433\tloss1_test:0.64786\tloss2_test:0.34869\tloss3_test:0.30625\ttime:9.526\n",
      "[2024-06-21 15:51:19,712][STAMP.py][line:134][INFO] Epoch:[100/200]\tsteps:20\tloss1_train:0.29627\tloss2_train:0.25027\tloss3_train:0.16046\tloss1_test:0.64379\tloss2_test:0.34955\tloss3_test:0.30574\ttime:10.079\n",
      "[2024-06-21 15:51:30,258][STAMP.py][line:134][INFO] Epoch:[101/200]\tsteps:20\tloss1_train:0.29882\tloss2_train:0.26684\tloss3_train:0.22077\tloss1_test:0.67588\tloss2_test:0.34818\tloss3_test:0.30513\ttime:9.807\n",
      "[2024-06-21 15:51:41,154][STAMP.py][line:134][INFO] Epoch:[102/200]\tsteps:20\tloss1_train:0.28975\tloss2_train:0.25280\tloss3_train:0.17597\tloss1_test:0.66317\tloss2_test:0.34872\tloss3_test:0.33006\ttime:10.084\n",
      "[2024-06-21 15:51:52,326][STAMP.py][line:134][INFO] Epoch:[103/200]\tsteps:20\tloss1_train:0.28782\tloss2_train:0.28866\tloss3_train:0.17735\tloss1_test:0.66746\tloss2_test:0.34462\tloss3_test:0.31164\ttime:10.465\n",
      "[2024-06-21 15:52:02,524][STAMP.py][line:134][INFO] Epoch:[104/200]\tsteps:20\tloss1_train:0.28341\tloss2_train:0.24509\tloss3_train:0.15673\tloss1_test:0.67251\tloss2_test:0.34411\tloss3_test:0.30386\ttime:9.381\n",
      "[2024-06-21 15:52:14,067][STAMP.py][line:134][INFO] Epoch:[105/200]\tsteps:20\tloss1_train:0.28591\tloss2_train:0.24607\tloss3_train:0.15441\tloss1_test:0.67093\tloss2_test:0.34454\tloss3_test:0.30216\ttime:10.554\n",
      "[2024-06-21 15:52:24,582][STAMP.py][line:134][INFO] Epoch:[106/200]\tsteps:20\tloss1_train:0.27835\tloss2_train:0.24128\tloss3_train:0.15297\tloss1_test:0.66254\tloss2_test:0.34403\tloss3_test:0.30171\ttime:9.881\n",
      "[2024-06-21 15:52:35,263][STAMP.py][line:134][INFO] Epoch:[107/200]\tsteps:20\tloss1_train:0.28628\tloss2_train:0.25384\tloss3_train:0.16905\tloss1_test:0.67006\tloss2_test:0.34486\tloss3_test:0.30034\ttime:9.735\n",
      "[2024-06-21 15:52:45,926][STAMP.py][line:134][INFO] Epoch:[108/200]\tsteps:20\tloss1_train:0.29343\tloss2_train:0.32696\tloss3_train:0.16343\tloss1_test:0.70532\tloss2_test:0.34293\tloss3_test:0.30066\ttime:9.645\n",
      "[2024-06-21 15:52:55,652][STAMP.py][line:134][INFO] Epoch:[109/200]\tsteps:20\tloss1_train:0.29588\tloss2_train:0.24701\tloss3_train:0.15565\tloss1_test:0.71254\tloss2_test:0.34320\tloss3_test:0.30119\ttime:8.804\n",
      "[2024-06-21 15:53:06,490][STAMP.py][line:134][INFO] Epoch:[110/200]\tsteps:20\tloss1_train:0.29726\tloss2_train:0.25268\tloss3_train:0.15204\tloss1_test:0.70404\tloss2_test:0.34233\tloss3_test:0.30031\ttime:10.076\n",
      "[2024-06-21 15:53:16,668][STAMP.py][line:134][INFO] Epoch:[111/200]\tsteps:20\tloss1_train:0.28054\tloss2_train:0.24075\tloss3_train:0.14906\tloss1_test:0.68837\tloss2_test:0.34365\tloss3_test:0.30075\ttime:9.480\n",
      "[2024-06-21 15:53:26,445][STAMP.py][line:134][INFO] Epoch:[112/200]\tsteps:20\tloss1_train:0.28175\tloss2_train:0.27272\tloss3_train:0.15582\tloss1_test:0.67047\tloss2_test:0.34332\tloss3_test:0.29970\ttime:9.078\n",
      "[2024-06-21 15:53:36,679][STAMP.py][line:134][INFO] Epoch:[113/200]\tsteps:20\tloss1_train:0.28494\tloss2_train:0.24597\tloss3_train:0.15029\tloss1_test:0.68460\tloss2_test:0.34313\tloss3_test:0.29990\ttime:9.511\n",
      "[2024-06-21 15:53:46,841][STAMP.py][line:134][INFO] Epoch:[114/200]\tsteps:20\tloss1_train:0.27358\tloss2_train:0.23990\tloss3_train:0.14837\tloss1_test:0.67427\tloss2_test:0.34309\tloss3_test:0.29753\ttime:9.302\n",
      "[2024-06-21 15:53:57,572][STAMP.py][line:134][INFO] Epoch:[115/200]\tsteps:20\tloss1_train:0.26826\tloss2_train:0.23346\tloss3_train:0.14617\tloss1_test:0.67686\tloss2_test:0.34262\tloss3_test:0.29771\ttime:9.967\n",
      "[2024-06-21 15:54:08,015][STAMP.py][line:134][INFO] Epoch:[116/200]\tsteps:20\tloss1_train:0.27656\tloss2_train:0.23935\tloss3_train:0.15014\tloss1_test:0.69179\tloss2_test:0.34224\tloss3_test:0.29764\ttime:9.650\n",
      "[2024-06-21 15:54:18,645][STAMP.py][line:134][INFO] Epoch:[117/200]\tsteps:20\tloss1_train:0.29037\tloss2_train:0.28801\tloss3_train:0.15169\tloss1_test:0.66482\tloss2_test:0.34092\tloss3_test:0.29843\ttime:9.864\n",
      "[2024-06-21 15:54:29,673][STAMP.py][line:134][INFO] Epoch:[118/200]\tsteps:20\tloss1_train:0.27037\tloss2_train:0.24035\tloss3_train:0.14563\tloss1_test:0.68085\tloss2_test:0.34411\tloss3_test:0.29818\ttime:10.032\n",
      "[2024-06-21 15:54:40,025][STAMP.py][line:134][INFO] Epoch:[119/200]\tsteps:20\tloss1_train:0.27217\tloss2_train:0.26283\tloss3_train:0.14779\tloss1_test:0.68141\tloss2_test:0.34016\tloss3_test:0.29799\ttime:9.649\n",
      "[2024-06-21 15:54:52,063][STAMP.py][line:134][INFO] Epoch:[120/200]\tsteps:20\tloss1_train:0.27766\tloss2_train:0.24098\tloss3_train:0.14400\tloss1_test:0.69192\tloss2_test:0.33980\tloss3_test:0.29840\ttime:11.039\n",
      "[2024-06-21 15:55:04,138][STAMP.py][line:134][INFO] Epoch:[121/200]\tsteps:20\tloss1_train:0.27394\tloss2_train:0.22752\tloss3_train:0.14478\tloss1_test:0.65789\tloss2_test:0.33969\tloss3_test:0.29882\ttime:11.267\n"
     ]
    },
    {
     "name": "stderr",
     "output_type": "stream",
     "text": [
      "[2024-06-21 15:55:16,458][STAMP.py][line:134][INFO] Epoch:[122/200]\tsteps:20\tloss1_train:0.26669\tloss2_train:0.22867\tloss3_train:0.14649\tloss1_test:0.67401\tloss2_test:0.34030\tloss3_test:0.29858\ttime:11.419\n",
      "[2024-06-21 15:55:29,414][STAMP.py][line:134][INFO] Epoch:[123/200]\tsteps:20\tloss1_train:0.26794\tloss2_train:0.23188\tloss3_train:0.14739\tloss1_test:0.68667\tloss2_test:0.34027\tloss3_test:0.29712\ttime:12.135\n",
      "[2024-06-21 15:55:43,071][STAMP.py][line:134][INFO] Epoch:[124/200]\tsteps:20\tloss1_train:0.26676\tloss2_train:0.23783\tloss3_train:0.14347\tloss1_test:0.67058\tloss2_test:0.34144\tloss3_test:0.29788\ttime:12.662\n",
      "[2024-06-21 15:55:55,031][STAMP.py][line:134][INFO] Epoch:[125/200]\tsteps:20\tloss1_train:0.27723\tloss2_train:0.25290\tloss3_train:0.14214\tloss1_test:0.68689\tloss2_test:0.34297\tloss3_test:0.29843\ttime:10.967\n",
      "[2024-06-21 15:56:07,947][STAMP.py][line:134][INFO] Epoch:[126/200]\tsteps:20\tloss1_train:0.27298\tloss2_train:0.24782\tloss3_train:0.15491\tloss1_test:0.66294\tloss2_test:0.34141\tloss3_test:0.30068\ttime:12.099\n",
      "[2024-06-21 15:56:22,722][STAMP.py][line:134][INFO] Epoch:[127/200]\tsteps:20\tloss1_train:0.26739\tloss2_train:0.28667\tloss3_train:0.15315\tloss1_test:0.69673\tloss2_test:0.34067\tloss3_test:0.29887\ttime:13.665\n",
      "[2024-06-21 15:56:36,507][STAMP.py][line:134][INFO] Epoch:[128/200]\tsteps:20\tloss1_train:0.26689\tloss2_train:0.23994\tloss3_train:0.14397\tloss1_test:0.70635\tloss2_test:0.33887\tloss3_test:0.29756\ttime:13.018\n",
      "[2024-06-21 15:56:50,316][STAMP.py][line:134][INFO] Epoch:[129/200]\tsteps:20\tloss1_train:0.27107\tloss2_train:0.27437\tloss3_train:0.15072\tloss1_test:0.69020\tloss2_test:0.34076\tloss3_test:0.29785\ttime:12.991\n",
      "[2024-06-21 15:57:05,532][STAMP.py][line:134][INFO] Epoch:[130/200]\tsteps:20\tloss1_train:0.25801\tloss2_train:0.23881\tloss3_train:0.15592\tloss1_test:0.71666\tloss2_test:0.34487\tloss3_test:0.30339\ttime:13.629\n",
      "[2024-06-21 15:57:20,750][STAMP.py][line:134][INFO] Epoch:[131/200]\tsteps:20\tloss1_train:0.26001\tloss2_train:0.24150\tloss3_train:0.14524\tloss1_test:0.70217\tloss2_test:0.34176\tloss3_test:0.30020\ttime:13.489\n",
      "[2024-06-21 15:57:37,377][STAMP.py][line:134][INFO] Epoch:[132/200]\tsteps:20\tloss1_train:0.25448\tloss2_train:0.23128\tloss3_train:0.14132\tloss1_test:0.71170\tloss2_test:0.34611\tloss3_test:0.30223\ttime:15.679\n",
      "[2024-06-21 15:57:52,146][STAMP.py][line:134][INFO] Epoch:[133/200]\tsteps:20\tloss1_train:0.25473\tloss2_train:0.23325\tloss3_train:0.14795\tloss1_test:0.70965\tloss2_test:0.34329\tloss3_test:0.29794\ttime:13.707\n",
      "[2024-06-21 15:58:07,295][STAMP.py][line:134][INFO] Epoch:[134/200]\tsteps:20\tloss1_train:0.25382\tloss2_train:0.22475\tloss3_train:0.14203\tloss1_test:0.70574\tloss2_test:0.34234\tloss3_test:0.29809\ttime:14.073\n",
      "[2024-06-21 15:58:21,446][STAMP.py][line:134][INFO] Epoch:[135/200]\tsteps:20\tloss1_train:0.25944\tloss2_train:0.25925\tloss3_train:0.15013\tloss1_test:0.69609\tloss2_test:0.34376\tloss3_test:0.29785\ttime:12.762\n",
      "[2024-06-21 15:58:35,486][STAMP.py][line:134][INFO] Epoch:[136/200]\tsteps:20\tloss1_train:0.24954\tloss2_train:0.23286\tloss3_train:0.15076\tloss1_test:0.71248\tloss2_test:0.34374\tloss3_test:0.29891\ttime:12.997\n",
      "[2024-06-21 15:58:48,850][STAMP.py][line:134][INFO] Epoch:[137/200]\tsteps:20\tloss1_train:0.25789\tloss2_train:0.23289\tloss3_train:0.14158\tloss1_test:0.70162\tloss2_test:0.34455\tloss3_test:0.29727\ttime:12.547\n",
      "[2024-06-21 15:59:02,767][STAMP.py][line:134][INFO] Epoch:[138/200]\tsteps:20\tloss1_train:0.26519\tloss2_train:0.26270\tloss3_train:0.14234\tloss1_test:0.68864\tloss2_test:0.34319\tloss3_test:0.30083\ttime:12.578\n",
      "[2024-06-21 15:59:14,698][STAMP.py][line:134][INFO] Epoch:[139/200]\tsteps:20\tloss1_train:0.26512\tloss2_train:0.22940\tloss3_train:0.13700\tloss1_test:0.69744\tloss2_test:0.34670\tloss3_test:0.29876\ttime:11.195\n",
      "[2024-06-21 15:59:25,265][STAMP.py][line:134][INFO] Epoch:[140/200]\tsteps:20\tloss1_train:0.27176\tloss2_train:0.29166\tloss3_train:0.18408\tloss1_test:0.72566\tloss2_test:0.34346\tloss3_test:0.30103\ttime:9.713\n",
      "[2024-06-21 15:59:37,363][STAMP.py][line:134][INFO] Epoch:[141/200]\tsteps:20\tloss1_train:0.25136\tloss2_train:0.23258\tloss3_train:0.14840\tloss1_test:0.71121\tloss2_test:0.34789\tloss3_test:0.30426\ttime:11.211\n",
      "[2024-06-21 15:59:48,310][STAMP.py][line:134][INFO] Epoch:[142/200]\tsteps:20\tloss1_train:0.25034\tloss2_train:0.23014\tloss3_train:0.13783\tloss1_test:0.71890\tloss2_test:0.34678\tloss3_test:0.30464\ttime:10.333\n",
      "[2024-06-21 15:59:59,035][STAMP.py][line:134][INFO] Epoch:[143/200]\tsteps:20\tloss1_train:0.24582\tloss2_train:0.22995\tloss3_train:0.13835\tloss1_test:0.69994\tloss2_test:0.34648\tloss3_test:0.30292\ttime:9.675\n",
      "[2024-06-21 16:00:09,235][STAMP.py][line:134][INFO] Epoch:[144/200]\tsteps:20\tloss1_train:0.23079\tloss2_train:0.23037\tloss3_train:0.13510\tloss1_test:0.71425\tloss2_test:0.34654\tloss3_test:0.30268\ttime:9.205\n",
      "[2024-06-21 16:00:21,403][STAMP.py][line:134][INFO] Epoch:[145/200]\tsteps:20\tloss1_train:0.23762\tloss2_train:0.22303\tloss3_train:0.13118\tloss1_test:0.72068\tloss2_test:0.34581\tloss3_test:0.30293\ttime:11.126\n",
      "[2024-06-21 16:00:31,627][STAMP.py][line:134][INFO] Epoch:[146/200]\tsteps:20\tloss1_train:0.23570\tloss2_train:0.22243\tloss3_train:0.13731\tloss1_test:0.72005\tloss2_test:0.34478\tloss3_test:0.30148\ttime:9.342\n",
      "[2024-06-21 16:00:42,662][STAMP.py][line:134][INFO] Epoch:[147/200]\tsteps:20\tloss1_train:0.23595\tloss2_train:0.22375\tloss3_train:0.13170\tloss1_test:0.70477\tloss2_test:0.34401\tloss3_test:0.30076\ttime:10.130\n",
      "[2024-06-21 16:00:54,587][STAMP.py][line:134][INFO] Epoch:[148/200]\tsteps:20\tloss1_train:0.23713\tloss2_train:0.22329\tloss3_train:0.13263\tloss1_test:0.73071\tloss2_test:0.34416\tloss3_test:0.30069\ttime:10.774\n",
      "[2024-06-21 16:01:06,376][STAMP.py][line:134][INFO] Epoch:[149/200]\tsteps:20\tloss1_train:0.23328\tloss2_train:0.22374\tloss3_train:0.14556\tloss1_test:0.71781\tloss2_test:0.34336\tloss3_test:0.30121\ttime:11.027\n",
      "[2024-06-21 16:01:16,933][STAMP.py][line:134][INFO] Epoch:[150/200]\tsteps:20\tloss1_train:0.23040\tloss2_train:0.21715\tloss3_train:0.12965\tloss1_test:0.73459\tloss2_test:0.34286\tloss3_test:0.30183\ttime:9.897\n",
      "[2024-06-21 16:01:27,370][STAMP.py][line:134][INFO] Epoch:[151/200]\tsteps:20\tloss1_train:0.22897\tloss2_train:0.21689\tloss3_train:0.12713\tloss1_test:0.72754\tloss2_test:0.34291\tloss3_test:0.30144\ttime:9.797\n",
      "[2024-06-21 16:01:38,435][STAMP.py][line:134][INFO] Epoch:[152/200]\tsteps:20\tloss1_train:0.23107\tloss2_train:0.22132\tloss3_train:0.12795\tloss1_test:0.74861\tloss2_test:0.34325\tloss3_test:0.30094\ttime:10.210\n",
      "[2024-06-21 16:01:49,885][STAMP.py][line:134][INFO] Epoch:[153/200]\tsteps:20\tloss1_train:0.22740\tloss2_train:0.22129\tloss3_train:0.12889\tloss1_test:0.74047\tloss2_test:0.34263\tloss3_test:0.30093\ttime:10.663\n",
      "[2024-06-21 16:02:00,003][STAMP.py][line:134][INFO] Epoch:[154/200]\tsteps:20\tloss1_train:0.22680\tloss2_train:0.21684\tloss3_train:0.12798\tloss1_test:0.74347\tloss2_test:0.34278\tloss3_test:0.30058\ttime:9.393\n",
      "[2024-06-21 16:02:15,044][STAMP.py][line:134][INFO] Epoch:[155/200]\tsteps:20\tloss1_train:0.22376\tloss2_train:0.21184\tloss3_train:0.12499\tloss1_test:0.74453\tloss2_test:0.34300\tloss3_test:0.30073\ttime:14.306\n",
      "[2024-06-21 16:02:26,746][STAMP.py][line:134][INFO] Epoch:[156/200]\tsteps:20\tloss1_train:0.22864\tloss2_train:0.22791\tloss3_train:0.13185\tloss1_test:0.72764\tloss2_test:0.34354\tloss3_test:0.30099\ttime:10.670\n",
      "[2024-06-21 16:02:38,749][STAMP.py][line:134][INFO] Epoch:[157/200]\tsteps:20\tloss1_train:0.22820\tloss2_train:0.22033\tloss3_train:0.12950\tloss1_test:0.74898\tloss2_test:0.34395\tloss3_test:0.29981\ttime:10.983\n",
      "[2024-06-21 16:02:49,321][STAMP.py][line:134][INFO] Epoch:[158/200]\tsteps:20\tloss1_train:0.22468\tloss2_train:0.21463\tloss3_train:0.13007\tloss1_test:0.74853\tloss2_test:0.34440\tloss3_test:0.30047\ttime:9.802\n",
      "[2024-06-21 16:02:58,922][STAMP.py][line:134][INFO] Epoch:[159/200]\tsteps:20\tloss1_train:0.24009\tloss2_train:0.27014\tloss3_train:0.13236\tloss1_test:0.73521\tloss2_test:0.34824\tloss3_test:0.30163\ttime:8.858\n",
      "[2024-06-21 16:03:08,216][STAMP.py][line:134][INFO] Epoch:[160/200]\tsteps:20\tloss1_train:0.23745\tloss2_train:0.26284\tloss3_train:0.14673\tloss1_test:0.72496\tloss2_test:0.34693\tloss3_test:0.31156\ttime:8.656\n",
      "[2024-06-21 16:03:18,566][STAMP.py][line:134][INFO] Epoch:[161/200]\tsteps:20\tloss1_train:0.22976\tloss2_train:0.21929\tloss3_train:0.13815\tloss1_test:0.76114\tloss2_test:0.34934\tloss3_test:0.30746\ttime:9.472\n"
     ]
    },
    {
     "name": "stderr",
     "output_type": "stream",
     "text": [
      "[2024-06-21 16:03:27,508][STAMP.py][line:134][INFO] Epoch:[162/200]\tsteps:20\tloss1_train:0.22825\tloss2_train:0.23638\tloss3_train:0.13190\tloss1_test:0.74999\tloss2_test:0.34630\tloss3_test:0.30361\ttime:8.107\n",
      "[2024-06-21 16:03:37,274][STAMP.py][line:134][INFO] Epoch:[163/200]\tsteps:20\tloss1_train:0.23240\tloss2_train:0.21263\tloss3_train:0.12357\tloss1_test:0.75284\tloss2_test:0.34756\tloss3_test:0.30410\ttime:8.666\n",
      "[2024-06-21 16:03:47,873][STAMP.py][line:134][INFO] Epoch:[164/200]\tsteps:20\tloss1_train:0.22185\tloss2_train:0.21105\tloss3_train:0.12306\tloss1_test:0.75495\tloss2_test:0.34624\tloss3_test:0.30262\ttime:9.931\n",
      "[2024-06-21 16:03:59,125][STAMP.py][line:134][INFO] Epoch:[165/200]\tsteps:20\tloss1_train:0.22746\tloss2_train:0.21622\tloss3_train:0.12583\tloss1_test:0.78720\tloss2_test:0.34645\tloss3_test:0.30216\ttime:9.924\n",
      "[2024-06-21 16:04:09,773][STAMP.py][line:134][INFO] Epoch:[166/200]\tsteps:20\tloss1_train:0.22052\tloss2_train:0.21517\tloss3_train:0.12710\tloss1_test:0.78017\tloss2_test:0.34522\tloss3_test:0.30098\ttime:9.489\n",
      "[2024-06-21 16:04:20,435][STAMP.py][line:134][INFO] Epoch:[167/200]\tsteps:20\tloss1_train:0.22560\tloss2_train:0.27867\tloss3_train:0.14256\tloss1_test:0.77345\tloss2_test:0.34835\tloss3_test:0.30211\ttime:9.651\n",
      "[2024-06-21 16:04:30,819][STAMP.py][line:134][INFO] Epoch:[168/200]\tsteps:20\tloss1_train:0.24424\tloss2_train:0.30832\tloss3_train:0.15878\tloss1_test:0.74773\tloss2_test:0.35207\tloss3_test:0.30966\ttime:9.621\n",
      "[2024-06-21 16:04:40,772][STAMP.py][line:134][INFO] Epoch:[169/200]\tsteps:20\tloss1_train:0.22760\tloss2_train:0.22456\tloss3_train:0.15605\tloss1_test:0.75163\tloss2_test:0.34446\tloss3_test:0.31372\ttime:9.169\n",
      "[2024-06-21 16:04:52,469][STAMP.py][line:134][INFO] Epoch:[170/200]\tsteps:20\tloss1_train:0.22750\tloss2_train:0.21635\tloss3_train:0.14033\tloss1_test:0.76218\tloss2_test:0.34040\tloss3_test:0.30740\ttime:10.797\n",
      "[2024-06-21 16:05:03,655][STAMP.py][line:134][INFO] Epoch:[171/200]\tsteps:20\tloss1_train:0.23274\tloss2_train:0.22893\tloss3_train:0.14678\tloss1_test:0.77447\tloss2_test:0.33913\tloss3_test:0.29845\ttime:10.487\n",
      "[2024-06-21 16:05:15,987][STAMP.py][line:134][INFO] Epoch:[172/200]\tsteps:20\tloss1_train:0.22227\tloss2_train:0.22211\tloss3_train:0.12618\tloss1_test:0.77867\tloss2_test:0.34021\tloss3_test:0.30156\ttime:11.238\n",
      "[2024-06-21 16:05:28,598][STAMP.py][line:134][INFO] Epoch:[173/200]\tsteps:20\tloss1_train:0.21770\tloss2_train:0.21117\tloss3_train:0.12545\tloss1_test:0.77034\tloss2_test:0.34270\tloss3_test:0.29841\ttime:11.783\n",
      "[2024-06-21 16:05:40,921][STAMP.py][line:134][INFO] Epoch:[174/200]\tsteps:20\tloss1_train:0.21478\tloss2_train:0.21130\tloss3_train:0.12196\tloss1_test:0.78924\tloss2_test:0.34172\tloss3_test:0.29973\ttime:10.927\n",
      "[2024-06-21 16:05:53,317][STAMP.py][line:134][INFO] Epoch:[175/200]\tsteps:20\tloss1_train:0.20966\tloss2_train:0.20976\tloss3_train:0.12086\tloss1_test:0.79180\tloss2_test:0.34175\tloss3_test:0.29997\ttime:11.476\n",
      "[2024-06-21 16:06:04,580][STAMP.py][line:134][INFO] Epoch:[176/200]\tsteps:20\tloss1_train:0.20760\tloss2_train:0.20658\tloss3_train:0.12210\tloss1_test:0.77391\tloss2_test:0.34239\tloss3_test:0.30021\ttime:10.393\n",
      "[2024-06-21 16:06:16,429][STAMP.py][line:134][INFO] Epoch:[177/200]\tsteps:20\tloss1_train:0.20749\tloss2_train:0.21238\tloss3_train:0.12447\tloss1_test:0.78472\tloss2_test:0.34224\tloss3_test:0.30092\ttime:10.793\n",
      "[2024-06-21 16:06:28,065][STAMP.py][line:134][INFO] Epoch:[178/200]\tsteps:20\tloss1_train:0.21249\tloss2_train:0.26493\tloss3_train:0.13262\tloss1_test:0.76524\tloss2_test:0.34096\tloss3_test:0.30080\ttime:10.530\n",
      "[2024-06-21 16:06:41,019][STAMP.py][line:134][INFO] Epoch:[179/200]\tsteps:20\tloss1_train:0.21038\tloss2_train:0.21877\tloss3_train:0.12038\tloss1_test:0.76482\tloss2_test:0.34088\tloss3_test:0.30088\ttime:12.006\n",
      "[2024-06-21 16:06:52,581][STAMP.py][line:134][INFO] Epoch:[180/200]\tsteps:20\tloss1_train:0.21337\tloss2_train:0.20910\tloss3_train:0.12320\tloss1_test:0.78117\tloss2_test:0.33967\tloss3_test:0.30024\ttime:10.377\n",
      "[2024-06-21 16:07:04,787][STAMP.py][line:134][INFO] Epoch:[181/200]\tsteps:20\tloss1_train:0.21628\tloss2_train:0.24329\tloss3_train:0.12488\tloss1_test:0.78112\tloss2_test:0.34471\tloss3_test:0.30168\ttime:11.416\n",
      "[2024-06-21 16:07:14,452][STAMP.py][line:134][INFO] Epoch:[182/200]\tsteps:20\tloss1_train:0.21277\tloss2_train:0.22251\tloss3_train:0.13073\tloss1_test:0.81019\tloss2_test:0.34817\tloss3_test:0.30489\ttime:8.906\n",
      "[2024-06-21 16:07:25,095][STAMP.py][line:134][INFO] Epoch:[183/200]\tsteps:20\tloss1_train:0.21450\tloss2_train:0.21712\tloss3_train:0.12935\tloss1_test:0.77999\tloss2_test:0.34599\tloss3_test:0.30199\ttime:9.799\n",
      "[2024-06-21 16:07:36,784][STAMP.py][line:134][INFO] Epoch:[184/200]\tsteps:20\tloss1_train:0.21546\tloss2_train:0.22175\tloss3_train:0.13889\tloss1_test:0.80267\tloss2_test:0.34339\tloss3_test:0.30008\ttime:10.609\n",
      "[2024-06-21 16:07:48,244][STAMP.py][line:134][INFO] Epoch:[185/200]\tsteps:20\tloss1_train:0.20989\tloss2_train:0.21109\tloss3_train:0.12295\tloss1_test:0.78970\tloss2_test:0.33969\tloss3_test:0.30065\ttime:10.654\n",
      "[2024-06-21 16:07:58,299][STAMP.py][line:134][INFO] Epoch:[186/200]\tsteps:20\tloss1_train:0.20257\tloss2_train:0.20791\tloss3_train:0.11892\tloss1_test:0.78474\tloss2_test:0.34006\tloss3_test:0.30025\ttime:9.174\n",
      "[2024-06-21 16:08:08,151][STAMP.py][line:134][INFO] Epoch:[187/200]\tsteps:20\tloss1_train:0.21884\tloss2_train:0.20797\tloss3_train:0.11903\tloss1_test:0.78492\tloss2_test:0.33971\tloss3_test:0.30034\ttime:9.218\n",
      "[2024-06-21 16:08:17,611][STAMP.py][line:134][INFO] Epoch:[188/200]\tsteps:20\tloss1_train:0.21158\tloss2_train:0.23990\tloss3_train:0.12557\tloss1_test:0.77715\tloss2_test:0.34102\tloss3_test:0.30188\ttime:8.710\n",
      "[2024-06-21 16:08:27,144][STAMP.py][line:134][INFO] Epoch:[189/200]\tsteps:20\tloss1_train:0.21307\tloss2_train:0.20612\tloss3_train:0.11724\tloss1_test:0.79831\tloss2_test:0.34135\tloss3_test:0.29949\ttime:8.812\n",
      "[2024-06-21 16:08:37,438][STAMP.py][line:134][INFO] Epoch:[190/200]\tsteps:20\tloss1_train:0.20726\tloss2_train:0.22975\tloss3_train:0.12360\tloss1_test:0.79388\tloss2_test:0.34119\tloss3_test:0.29999\ttime:9.532\n",
      "[2024-06-21 16:08:46,752][STAMP.py][line:134][INFO] Epoch:[191/200]\tsteps:20\tloss1_train:0.20044\tloss2_train:0.20533\tloss3_train:0.11517\tloss1_test:0.82200\tloss2_test:0.34072\tloss3_test:0.30006\ttime:8.622\n",
      "[2024-06-21 16:08:57,163][STAMP.py][line:134][INFO] Epoch:[192/200]\tsteps:20\tloss1_train:0.20825\tloss2_train:0.20323\tloss3_train:0.11531\tloss1_test:0.80277\tloss2_test:0.34102\tloss3_test:0.30063\ttime:9.658\n",
      "[2024-06-21 16:09:06,607][STAMP.py][line:134][INFO] Epoch:[193/200]\tsteps:20\tloss1_train:0.20697\tloss2_train:0.19958\tloss3_train:0.11355\tloss1_test:0.80837\tloss2_test:0.34268\tloss3_test:0.30206\ttime:8.697\n",
      "[2024-06-21 16:09:17,332][STAMP.py][line:134][INFO] Epoch:[194/200]\tsteps:20\tloss1_train:0.20330\tloss2_train:0.20180\tloss3_train:0.11500\tloss1_test:0.80719\tloss2_test:0.34264\tloss3_test:0.30196\ttime:9.779\n",
      "[2024-06-21 16:09:28,288][STAMP.py][line:134][INFO] Epoch:[195/200]\tsteps:20\tloss1_train:0.19741\tloss2_train:0.23096\tloss3_train:0.14146\tloss1_test:0.81096\tloss2_test:0.33958\tloss3_test:0.30070\ttime:10.113\n",
      "[2024-06-21 16:09:38,867][STAMP.py][line:134][INFO] Epoch:[196/200]\tsteps:20\tloss1_train:0.19429\tloss2_train:0.21505\tloss3_train:0.12131\tloss1_test:0.80230\tloss2_test:0.33944\tloss3_test:0.30070\ttime:9.711\n",
      "[2024-06-21 16:09:49,815][STAMP.py][line:134][INFO] Epoch:[197/200]\tsteps:20\tloss1_train:0.19196\tloss2_train:0.19751\tloss3_train:0.11379\tloss1_test:0.82319\tloss2_test:0.33795\tloss3_test:0.30156\ttime:10.103\n",
      "[2024-06-21 16:09:59,419][STAMP.py][line:134][INFO] Epoch:[198/200]\tsteps:20\tloss1_train:0.19926\tloss2_train:0.19557\tloss3_train:0.11432\tloss1_test:0.81185\tloss2_test:0.34106\tloss3_test:0.30178\ttime:8.659\n",
      "[2024-06-21 16:10:10,119][STAMP.py][line:134][INFO] Epoch:[199/200]\tsteps:20\tloss1_train:0.20846\tloss2_train:0.20902\tloss3_train:0.11593\tloss1_test:0.83638\tloss2_test:0.33883\tloss3_test:0.30208\ttime:9.912\n",
      "[2024-06-21 16:10:18,913][STAMP.py][line:134][INFO] Epoch:[200/200]\tsteps:20\tloss1_train:0.20290\tloss2_train:0.30244\tloss3_train:0.12104\tloss1_test:0.81426\tloss2_test:0.34081\tloss3_test:0.30317\ttime:8.197\n",
      "[2024-06-21 16:10:18,915][STAMP.py][line:145][INFO] finish training!\n"
     ]
    }
   ],
   "source": [
    "# training model\n",
    "model.train()"
   ]
  },
  {
   "cell_type": "code",
   "execution_count": 4,
   "id": "360055b0",
   "metadata": {},
   "outputs": [],
   "source": [
    "# load trained model\n",
    "model.load_pretrained(f\"{config['Train']['output_dir']}/trained_models\")"
   ]
  },
  {
   "cell_type": "code",
   "execution_count": 5,
   "id": "ff9813f8",
   "metadata": {},
   "outputs": [
    {
     "name": "stdout",
     "output_type": "stream",
     "text": [
      "ROC_AUC_1: 0.8052738306418594, PR_AUC_1: 0.3348674585244578, ROC_AUC_2: 0.9378125649418642, PR_AUC_2: 0.850184983554758, COR_3: 0.6981631913468689, mse_3: 0.2608400583267212\n",
      "Single_Perturbation: ROC_AUC_1: 0.8052738306418594, PR_AUC_1: 0.3348674585244578, ROC_AUC_2: 0.9378125649418642, PR_AUC_2: 0.850184983554758, COR_3: 0.6981631913468689, mse_3: 0.2608400583267212\n",
      "There is no 2/2 seen perturbations in the test data\n",
      "There is no 1/2 seen perturbations in the test data\n",
      "There is no 0/2 seen perturbations in the test data\n"
     ]
    },
    {
     "data": {
      "text/plain": [
       "{'Overall': {'ROC_AUC_1': 0.8052738306418594,\n",
       "  'PR_AUC_1': 0.3348674585244578,\n",
       "  'ROC_AUC_2': 0.9378125649418642,\n",
       "  'PR_AUC_2': 0.850184983554758,\n",
       "  'COR_3': 0.6981631913468689,\n",
       "  'mse_3': 0.2608400583267212},\n",
       " 'Single_Perturbation': {'ROC_AUC_1': 0.8052738306418594,\n",
       "  'PR_AUC_1': 0.3348674585244578,\n",
       "  'ROC_AUC_2': 0.9378125649418642,\n",
       "  'PR_AUC_2': 0.850184983554758,\n",
       "  'COR_3': 0.6981631913468689,\n",
       "  'mse_3': 0.2608400583267212}}"
      ]
     },
     "execution_count": 5,
     "metadata": {},
     "output_type": "execute_result"
    }
   ],
   "source": [
    "# use trained model to predict unseen perturbations\n",
    "model.prediction(config['dataset']['Testing_dataset'], combo_test = True)"
   ]
  }
 ],
 "metadata": {
  "kernelspec": {
   "display_name": "stamp_env",
   "language": "python",
   "name": "myenv"
  },
  "language_info": {
   "codemirror_mode": {
    "name": "ipython",
    "version": 3
   },
   "file_extension": ".py",
   "mimetype": "text/x-python",
   "name": "python",
   "nbconvert_exporter": "python",
   "pygments_lexer": "ipython3",
   "version": "3.9.7"
  }
 },
 "nbformat": 4,
 "nbformat_minor": 5
}
